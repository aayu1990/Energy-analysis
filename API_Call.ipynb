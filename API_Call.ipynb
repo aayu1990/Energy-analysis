{
 "cells": [
  {
   "cell_type": "code",
   "execution_count": 17,
   "metadata": {
    "slideshow": {
     "slide_type": "subslide"
    }
   },
   "outputs": [],
   "source": [
    "#import Dependencies\n",
    "import pandas as pd\n",
    "import numpy as np\n",
    "import requests\n",
    "import json\n",
    "\n",
    "#import API key\n",
    "from config import api_key\n",
    "from Serials import series_ids\n",
    "\n"
   ]
  },
  {
   "cell_type": "code",
   "execution_count": 18,
   "metadata": {
    "slideshow": {
     "slide_type": "subslide"
    }
   },
   "outputs": [],
   "source": [
    "#declare variables\n",
    "errors = []\n",
    "url=f\"http://api.eia.gov/series/?api_key={api_key}&series_id=\""
   ]
  },
  {
   "cell_type": "code",
   "execution_count": 19,
   "metadata": {
    "slideshow": {
     "slide_type": "subslide"
    }
   },
   "outputs": [],
   "source": [
    "#for loop to iterate through different api calls\n",
    "for series_id in series_ids:\n",
    "    try:\n",
    "        #retrieve response\n",
    "        response = requests.get(url + series_id).json()\n",
    "        res = {'res_data': response['series'][0]['data']}\n",
    "    \n",
    "        #assign values to variables\n",
    "        units = response['series'][0]['units']\n",
    "        dataset_name = response['series'][0]['name']\n",
    "        dataset_name = dataset_name.replace(' ', '_')\n",
    "        dataset_name = dataset_name.replace('/', '-')\n",
    "        #create df with cleaned data\n",
    "        data_df=pd.DataFrame(res)\n",
    "        data_df[['Year', units]]=pd.DataFrame(data_df.res_data.values.tolist(), index= data_df.index)\n",
    "        cleaned_df = pd.DataFrame(data_df['res_data'].values.tolist(), columns=['Year', units])\n",
    "    \n",
    "        #export df to csv folder\n",
    "        cleaned_df.to_csv('Data_new_2/' + dataset_name + '.csv', index = False, header = True)\n",
    "    except KeyError:\n",
    "        errors.append(series_id)\n",
    "        continue"
   ]
  },
  {
   "cell_type": "code",
   "execution_count": 21,
   "metadata": {},
   "outputs": [
    {
     "ename": "SyntaxError",
     "evalue": "invalid syntax (<ipython-input-21-d25b7986a77e>, line 1)",
     "output_type": "error",
     "traceback": [
      "\u001b[0;36m  File \u001b[0;32m\"<ipython-input-21-d25b7986a77e>\"\u001b[0;36m, line \u001b[0;32m1\u001b[0m\n\u001b[0;31m    ipython nbconvert API_Call.ipynb --to slides\u001b[0m\n\u001b[0m                    ^\u001b[0m\n\u001b[0;31mSyntaxError\u001b[0m\u001b[0;31m:\u001b[0m invalid syntax\n"
     ]
    }
   ],
   "source": []
  },
  {
   "cell_type": "code",
   "execution_count": null,
   "metadata": {},
   "outputs": [],
   "source": []
  }
 ],
 "metadata": {
  "celltoolbar": "Slideshow",
  "kernelspec": {
   "display_name": "Python 3",
   "language": "python",
   "name": "python3"
  },
  "language_info": {
   "codemirror_mode": {
    "name": "ipython",
    "version": 3
   },
   "file_extension": ".py",
   "mimetype": "text/x-python",
   "name": "python",
   "nbconvert_exporter": "python",
   "pygments_lexer": "ipython3",
   "version": "3.6.5"
  }
 },
 "nbformat": 4,
 "nbformat_minor": 2
}
