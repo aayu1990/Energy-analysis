{
 "cells": [
  {
   "cell_type": "code",
   "execution_count": 6,
   "metadata": {},
   "outputs": [],
   "source": [
    "# Dependencies\n",
    "import requests\n",
    "import json\n",
    "\n",
    "# Google developer API key\n",
    "from config import API_key\n",
    "\n",
    "\n",
    "# Build the endpoint URL\n",
    "target_url = \"http://api.eia.gov/series/categories/?series_id=ELEC.GEN.ALL-AK-99.A&api_key=\" + API_key + \"&out=json\""
   ]
  },
  {
   "cell_type": "code",
   "execution_count": 7,
   "metadata": {},
   "outputs": [
    {
     "data": {
      "text/plain": [
       "{'request': {'command': 'series/categories',\n",
       "  'series_id': 'ELEC.GEN.ALL-AK-99.A'},\n",
       " 'series_categories': [{'series_id': 'ELEC.GEN.ALL-AK-99.A',\n",
       "   'categories': [{'category_id': '3', 'name': 'By fuel type'},\n",
       "    {'category_id': '2', 'name': 'By sector'},\n",
       "    {'category_id': '1', 'name': 'Net generation'},\n",
       "    {'category_id': '1736519', 'name': 'All fuels'}]}]}"
      ]
     },
     "execution_count": 7,
     "metadata": {},
     "output_type": "execute_result"
    }
   ],
   "source": [
    "response = requests.get(target_url).json()\n",
    "response"
   ]
  },
  {
   "cell_type": "code",
   "execution_count": null,
   "metadata": {},
   "outputs": [],
   "source": []
  }
 ],
 "metadata": {
  "kernelspec": {
   "display_name": "Python 3",
   "language": "python",
   "name": "python3"
  },
  "language_info": {
   "codemirror_mode": {
    "name": "ipython",
    "version": 3
   },
   "file_extension": ".py",
   "mimetype": "text/x-python",
   "name": "python",
   "nbconvert_exporter": "python",
   "pygments_lexer": "ipython3",
   "version": "3.6.5"
  }
 },
 "nbformat": 4,
 "nbformat_minor": 2
}
