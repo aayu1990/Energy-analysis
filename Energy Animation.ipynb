{
 "cells": [
  {
   "cell_type": "code",
   "execution_count": 1,
   "metadata": {
    "scrolled": true
   },
   "outputs": [
    {
     "data": {
      "text/plain": [
       "<Figure size 3600x2400 with 1 Axes>"
      ]
     },
     "metadata": {},
     "output_type": "display_data"
    }
   ],
   "source": [
    "from numpy import *\n",
    "from pylab import *\n",
    "import matplotlib.pyplot as plt \n",
    "import matplotlib.image as mgimg\n",
    "from matplotlib import animation\n",
    "import matplotlib as mpl\n",
    "\n",
    "mpl.rcParams['figure.dpi'] = 120\n",
    "plt.rcParams.update({'figure.figsize': (30,20)})\n",
    "\n",
    "fig = plt.figure()\n",
    "\n",
    "myimages = []\n",
    "\n",
    "for p in range(1, 20):\n",
    "\n",
    "    fname = \"Images/Primary_Energy_Consumption_Types\" + str((1998 + p)) + \".png\" \n",
    "    img = mgimg.imread(fname)\n",
    "    plt.axis('off')\n",
    "    imgplot = imshow(img)\n",
    "    myimages.append([imgplot])\n",
    "\n",
    "my_anim = animation.ArtistAnimation(fig, myimages, interval=1000, blit=True, repeat_delay=1000)\n",
    "\n",
    "my_anim.save(\"Energy Animation.mp4\")\n",
    "\n",
    "plt.show()"
   ]
  },
  {
   "cell_type": "code",
   "execution_count": null,
   "metadata": {},
   "outputs": [],
   "source": []
  },
  {
   "cell_type": "code",
   "execution_count": null,
   "metadata": {},
   "outputs": [],
   "source": []
  },
  {
   "cell_type": "code",
   "execution_count": null,
   "metadata": {},
   "outputs": [],
   "source": []
  }
 ],
 "metadata": {
  "kernelspec": {
   "display_name": "Python 3",
   "language": "python",
   "name": "python3"
  },
  "language_info": {
   "codemirror_mode": {
    "name": "ipython",
    "version": 3
   },
   "file_extension": ".py",
   "mimetype": "text/x-python",
   "name": "python",
   "nbconvert_exporter": "python",
   "pygments_lexer": "ipython3",
   "version": "3.6.5"
  }
 },
 "nbformat": 4,
 "nbformat_minor": 2
}
