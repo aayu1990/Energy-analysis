{
 "cells": [
  {
   "cell_type": "code",
<<<<<<< HEAD
   "execution_count": 35,
=======
   "execution_count": 17,
>>>>>>> 8f1b3b272248405b9d4263a362ccb6c3877a9a46
   "metadata": {},
   "outputs": [],
   "source": [
    "#import Dependencies\n",
    "import pandas as pd\n",
    "import numpy as np\n",
    "import requests\n",
    "import json\n",
    "\n",
    "#import API key\n",
    "from config import api_key\n",
    "from Serials import series_ids"
   ]
  },
  {
   "cell_type": "code",
<<<<<<< HEAD
   "execution_count": 36,
=======
   "execution_count": 18,
>>>>>>> 8f1b3b272248405b9d4263a362ccb6c3877a9a46
   "metadata": {},
   "outputs": [],
   "source": [
    "#declare variables\n",
<<<<<<< HEAD
    "\n",
=======
    "errors = []\n",
>>>>>>> 8f1b3b272248405b9d4263a362ccb6c3877a9a46
    "url=f\"http://api.eia.gov/series/?api_key={api_key}&series_id=\""
   ]
  },
  {
   "cell_type": "code",
<<<<<<< HEAD
   "execution_count": 37,
   "metadata": {},
   "outputs": [
    {
     "name": "stdout",
     "output_type": "stream",
     "text": [
      "TOTAL.TERCEUS.ASTEO.REECBUS.A\n"
     ]
    }
   ],
=======
   "execution_count": 19,
   "metadata": {},
   "outputs": [],
>>>>>>> 8f1b3b272248405b9d4263a362ccb6c3877a9a46
   "source": [
    "#for loop to iterate through different api calls\n",
    "for series_id in series_ids:\n",
    "    try:\n",
    "        #retrieve response\n",
    "        response = requests.get(url + series_id).json()\n",
    "        res = {'res_data': response['series'][0]['data']}\n",
    "    \n",
    "        #assign values to variables\n",
    "        units = response['series'][0]['units']\n",
    "        dataset_name = response['series'][0]['name']\n",
    "        dataset_name = dataset_name.replace(' ', '_')\n",
    "        dataset_name = dataset_name.replace('/', '-')\n",
    "        #create df with cleaned data\n",
    "        data_df=pd.DataFrame(res)\n",
    "        data_df[['Year', units]]=pd.DataFrame(data_df.res_data.values.tolist(), index= data_df.index)\n",
    "        cleaned_df = pd.DataFrame(data_df['res_data'].values.tolist(), columns=['Year', units])\n",
    "    \n",
    "        #export df to csv folder\n",
<<<<<<< HEAD
    "        cleaned_df.to_csv('Data_new_2/' + dataset_name + '.csv', index = False, header = True)\n",
    "    except KeyError:\n",
    "        print(series_id)\n",
=======
    "        cleaned_df.to_csv('Data_new/' + dataset_name + '.csv', index = False, header = True)\n",
    "    except KeyError:\n",
    "        errors.append(series_id)\n",
>>>>>>> 8f1b3b272248405b9d4263a362ccb6c3877a9a46
    "        continue"
   ]
  },
  {
   "cell_type": "code",
<<<<<<< HEAD
   "execution_count": 30,
   "metadata": {},
   "outputs": [],
   "source": [
    "response = requests.get(url + 'TOTAL.WYTCBUS.A').json()\n",
    "res = {'res_data': response['series'][0]['data']}\n",
    "units = response['series'][0]['units']\n",
    "dataset_name = response['series'][0]['name']\n",
    "dataset_name = dataset_name.replace(' ', '_')\n",
    "dataset_name = dataset_name.replace('/', '-')\n",
    "data_df=pd.DataFrame(res)\n",
    "data_df[['Year', units]]=pd.DataFrame(data_df.res_data.values.tolist(), index= data_df.index)\n",
    "cleaned_df = pd.DataFrame(data_df['res_data'].values.tolist(), columns=['Year', units])\n",
    "cleaned_df.to_csv('Data_new_2/' + dataset_name + '.csv', index = False, header = True)"
   ]
  },
  {
   "cell_type": "code",
   "execution_count": 23,
   "metadata": {},
   "outputs": [
    {
     "data": {
      "text/plain": [
       "{'res_data': [['2017', 97735.387],\n",
       "  ['2016', 97581.919],\n",
       "  ['2015', 97526.034],\n",
       "  ['2014', 98490.661],\n",
       "  ['2013', 97340.441],\n",
       "  ['2012', 94534.976],\n",
       "  ['2011', 96976.026],\n",
       "  ['2010', 97580.057],\n",
       "  ['2009', 94117.614],\n",
       "  ['2008', 98890.755],\n",
       "  ['2007', 101014.753],\n",
       "  ['2006', 99484.49],\n",
       "  ['2005', 100187.721],\n",
       "  ['2004', 100089.702],\n",
       "  ['2003', 97917.504],\n",
       "  ['2002', 97643.478],\n",
       "  ['2001', 96169.669],\n",
       "  ['2000', 98816.545],\n",
       "  ['1999', 96648.392],\n",
       "  ['1998', 95017.738],\n",
       "  ['1997', 94600.341],\n",
       "  ['1996', 94020.528],\n",
       "  ['1995', 91030.608],\n",
       "  ['1994', 89087.341],\n",
       "  ['1993', 87365.525],\n",
       "  ['1992', 85782.166],\n",
       "  ['1991', 84437.217],\n",
       "  ['1990', 84484.553],\n",
       "  ['1989', 84785.325],\n",
       "  ['1988', 82709.172],\n",
       "  ['1987', 79054.456],\n",
       "  ['1986', 76647.005],\n",
       "  ['1985', 76392.385],\n",
       "  ['1984', 76631.701],\n",
       "  ['1983', 72970.566],\n",
       "  ['1982', 73099.185],\n",
       "  ['1981', 76105.776],\n",
       "  ['1980', 78066.668],\n",
       "  ['1979', 80858.584],\n",
       "  ['1978', 79950.406],\n",
       "  ['1977', 77961.33],\n",
       "  ['1976', 75974.826],\n",
       "  ['1975', 71964.553],\n",
       "  ['1974', 73962.369],\n",
       "  ['1973', 75683.69],\n",
       "  ['1972', 72687.867],\n",
       "  ['1971', 69282.843],\n",
       "  ['1970', 67838.325],\n",
       "  ['1969', 65614.02],\n",
       "  ['1968', 62414.507],\n",
       "  ['1967', 58904.521],\n",
       "  ['1966', 57014.332],\n",
       "  ['1965', 54015.001],\n",
       "  ['1964', 51814.788],\n",
       "  ['1963', 49644.195],\n",
       "  ['1962', 47826.437],\n",
       "  ['1961', 45737.837],\n",
       "  ['1960', 45086.455],\n",
       "  ['1959', 43465.722],\n",
       "  ['1958', 41645.028],\n",
       "  ['1957', 41787.186],\n",
       "  ['1956', 41754.252],\n",
       "  ['1955', 40207.971],\n",
       "  ['1954', 36639.382],\n",
       "  ['1953', 37664.468],\n",
       "  ['1952', 36747.825],\n",
       "  ['1951', 36974.03],\n",
       "  ['1950', 34615.768],\n",
       "  ['1949', 31981.503]]}"
      ]
     },
     "execution_count": 23,
     "metadata": {},
     "output_type": "execute_result"
    }
   ],
   "source": [
    "response = requests.get(url + 'TOTAL.TETCBUS.A').json()\n",
    "res = {'res_data': response['series'][0]['data']}\n",
    "res"
   ]
  },
  {
   "cell_type": "code",
   "execution_count": null,
   "metadata": {},
   "outputs": [],
   "source": []
=======
   "execution_count": null,
   "metadata": {},
   "outputs": [],
   "source": [
    "errors"
   ]
>>>>>>> 8f1b3b272248405b9d4263a362ccb6c3877a9a46
  }
 ],
 "metadata": {
  "kernelspec": {
   "display_name": "Python 3",
   "language": "python",
   "name": "python3"
  },
  "language_info": {
   "codemirror_mode": {
    "name": "ipython",
    "version": 3
   },
   "file_extension": ".py",
   "mimetype": "text/x-python",
   "name": "python",
   "nbconvert_exporter": "python",
   "pygments_lexer": "ipython3",
   "version": "3.6.5"
  }
 },
 "nbformat": 4,
 "nbformat_minor": 2
}
