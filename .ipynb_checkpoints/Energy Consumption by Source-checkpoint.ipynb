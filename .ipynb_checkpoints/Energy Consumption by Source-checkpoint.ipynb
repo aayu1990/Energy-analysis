{
 "cells": [
  {
   "cell_type": "code",
   "execution_count": 1,
   "metadata": {},
   "outputs": [],
   "source": [
    "%matplotlib inline\n",
    "# Dependencies and Setup\n",
    "import sys\n",
    "import matplotlib.pyplot as plt\n",
    "import pandas as pd\n",
    "import numpy as np\n",
    "import seaborn\n",
    "import matplotlib.animation as animation\n"
   ]
  },
  {
   "cell_type": "code",
   "execution_count": 2,
   "metadata": {},
   "outputs": [],
   "source": [
    "coalData = pd.read_csv(\"Data_new_2\\\\Coal_Production,_Annual.csv\")\n",
    "crudeData = pd.read_csv(\"Data_new_2\\\\Crude_Oil_Production,_Annual.csv\")\n",
    "dryNatGasData = pd.read_csv(\"Data_new_2\\\\Natural_Gas_(Dry)_Production,_Annual.csv\")\n",
    "wetNatGasData = pd.read_csv(\"Data_new_2\\\\Natural_Gas_Plant_Liquids_Production,_Annual.csv\")\n",
    "biomassData = pd.read_csv(\"Data_new_2\\\\Total_Biomass_Energy_Production,_Annual.csv\")\n",
    "fossilData = pd.read_csv(\"Data_new_2\\\\Total_Fossil_Fuels_Production,_Annual.csv\")\n",
    "windData = pd.read_csv(\"Data_new_2\\\\Wind_Energy_Consumption-Production,_Annual.csv\")\n",
    "solarData = pd.read_csv(\"Data_new_2\\\\Solar-PV_Energy_Consumption-Production,_Annual.csv\")\n",
    "nuclearData = pd.read_csv(\"Data_new_2\\\\Nuclear_Electric_Power_Consumption-Production,_Annual.csv\")\n",
    "hydroData = pd.read_csv(\"Data_new_2\\\\Hydroelectric_Power_Consumption-Production,_Annual.csv\")\n",
    "geoData = pd.read_csv(\"Data_new_2\\\\Geothermal_Energy_Consumption-Production,_Annual.csv\")\n"
   ]
  },
  {
   "cell_type": "code",
   "execution_count": null,
   "metadata": {},
   "outputs": [],
   "source": [
    "\n",
    "for x in range(1, 20):\n",
    "    renewable = (float(round(coalData.loc[coalData[\"Year\"] == (1998 + x)]['Trillion Btu'],2)) + \n",
    "    float(round(crudeData.loc[crudeData[\"Year\"] == (1998 + x)]['Trillion Btu'],2)) + \n",
    "    float(round(dryNatGasData.loc[dryNatGasData[\"Year\"] == (1998 + x)]['Trillion Btu'],2)) + \n",
    "    float(round(wetNatGasData.loc[wetNatGasData[\"Year\"] == (1998 + x)]['Trillion Btu'],2)) + \n",
    "    float(round(biomassData.loc[biomassData[\"Year\"] == (1998 + x)]['Trillion Btu'],2)) + \n",
    "    float(round(fossilData.loc[fossilData[\"Year\"] == (1998 + x)]['Trillion Btu'],2)) + \n",
    "    float(round(nuclearData.loc[nuclearData[\"Year\"] == (1998 + x)]['Trillion Btu'],2)))\n",
    "    nonRenewable = (float(round(windData.loc[windData[\"Year\"] == (1998 + x)]['Trillion Btu'],2)) + \n",
    "    float(round(solarData.loc[solarData[\"Year\"] == (1998 + x)]['Trillion Btu'],2)) + \n",
    "    float(round(nuclearData.loc[nuclearData[\"Year\"] == (1998 + x)]['Trillion Btu'],2)) + \n",
    "    float(round(hydroData.loc[hydroData[\"Year\"] == (1998 + x)]['Trillion Btu'],2)) + \n",
    "    float(round(geoData.loc[geoData[\"Year\"] == (1998 + x)]['Trillion Btu'],2)) + \n",
    "    float(round(biomassData.loc[biomassData[\"Year\"] == (1998 + x)]['Trillion Btu'],2)))\n",
    "    dataDic = {'Energy Type' :\n",
    "                ['Non-Renewable Energy','Renewable Energy'],\n",
    "                'Energy in Trillions of Btu' :\n",
    "                [renewable,\n",
    "                 nonRenewable]}\n",
    "                \n",
    "    \n",
    "    dataDicPd = pd.DataFrame.from_dict(dataDic)\n",
    "    dataDicPd.plot(kind='pie',colors=('#0D8EFF', '#00E84E'), y = 'Energy in Trillions of Btu', autopct='%1.1f%%', \n",
    "    startangle=0, shadow=True,explode = (.2,0), labels=None, fontsize=14)\n",
    "    plt.ylabel(\"\")\n",
    "    plt.legend(labels=dataDicPd['Energy Type'], loc='right', bbox_to_anchor=(0, 0.8))\n",
    "    plt.text(-2.7,-.3, s='Year ' + str((1998 + x)), fontsize=18)\n",
    "    plt.tight_layout()\n",
    "    plt.savefig(\"Images/Primary_Energy_Consumption_Types\" + str((1998 + x)) + \".png\")"
   ]
  },
  {
   "cell_type": "code",
   "execution_count": null,
   "metadata": {},
   "outputs": [],
   "source": [
    "dataDicPd.head()"
   ]
  },
  {
   "cell_type": "code",
   "execution_count": null,
   "metadata": {},
   "outputs": [],
   "source": []
  }
 ],
 "metadata": {
  "kernelspec": {
   "display_name": "Python 3",
   "language": "python",
   "name": "python3"
  },
  "language_info": {
   "codemirror_mode": {
    "name": "ipython",
    "version": 3
   },
   "file_extension": ".py",
   "mimetype": "text/x-python",
   "name": "python",
   "nbconvert_exporter": "python",
   "pygments_lexer": "ipython3",
   "version": "3.6.5"
  }
 },
 "nbformat": 4,
 "nbformat_minor": 2
}
