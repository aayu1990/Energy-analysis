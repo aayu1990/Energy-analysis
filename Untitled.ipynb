{
 "cells": [
  {
   "cell_type": "code",
   "execution_count": 34,
   "metadata": {},
   "outputs": [],
   "source": [
    "import pandas as pd\n",
    "import numpy as np\n",
    "import requests\n",
    "import json\n",
    "\n",
    "from config import api_key"
   ]
  },
  {
   "cell_type": "code",
   "execution_count": 35,
   "metadata": {},
   "outputs": [],
   "source": [
    "series_ids = ['EMISS.CO2-C-CLEIB-CA.A',\n",
    "              'EMISS.CO2-TOTV-TT-TO-CA.A',\n",
    "              'EMISS.CO2-TOTV-TT-CO-CA.A',\n",
    "              'EMISS.CO2-TOTV-TT-NG-CA.A']\n",
    "url=f\"http://api.eia.gov/series/?api_key={api_key}&series_id=\""
   ]
  },
  {
   "cell_type": "code",
   "execution_count": 36,
   "metadata": {},
   "outputs": [],
   "source": [
    "for series_id in series_ids:\n",
    "    response = requests.get(url + series_id).json()\n",
    "    res = {'res_data': response['series'][0]['data']}\n",
    "    units = response['series'][0]['units']\n",
    "    dataset_name = response['series'][0]['name']\n",
    "    data_df=pd.DataFrame(res)\n",
    "    data_df[['Year', units]]=pd.DataFrame(data_df.res_data.values.tolist(), index= data_df.index)\n",
    "    cleaned_df = pd.DataFrame(data_df['res_data'].values.tolist(), columns=['Year', units])\n",
    "    cleaned_df.to_csv('Data/' + dataset_name + '.csv', index = False, header = True)\n"
   ]
  },
  {
   "cell_type": "code",
   "execution_count": null,
   "metadata": {},
   "outputs": [],
   "source": []
  }
 ],
 "metadata": {
  "kernelspec": {
   "display_name": "Python 3",
   "language": "python",
   "name": "python3"
  },
  "language_info": {
   "codemirror_mode": {
    "name": "ipython",
    "version": 3
   },
   "file_extension": ".py",
   "mimetype": "text/x-python",
   "name": "python",
   "nbconvert_exporter": "python",
   "pygments_lexer": "ipython3",
   "version": "3.6.5"
  }
 },
 "nbformat": 4,
 "nbformat_minor": 2
}
