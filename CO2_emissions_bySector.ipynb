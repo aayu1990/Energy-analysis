{
 "cells": [
  {
   "cell_type": "code",
   "execution_count": null,
   "metadata": {},
   "outputs": [],
   "source": [
    "import pandas as pd\n",
    "import numpy as np\n",
    "import requests\n",
    "import json\n",
    "import matplotlib.pyplot as plt\n",
    "\n",
    "from config import api_key"
   ]
  },
  {
   "cell_type": "code",
   "execution_count": null,
   "metadata": {},
   "outputs": [],
   "source": [
    "Ren_ElectricData = pd.read_csv(\"Data_new_2/Total_Energy_Residential_Sector_CO2_Emissions,_Annual.csv\")\n",
    "Ren_ResidentiatData = pd.read_csv(\"Data_new_2/Residential_Sector_Total_Consumption_of_Renewable_Energy,_Annual.csv\")\n",
    "Ren_CommercialData = pd.read_csv(\"Data_new_2/Commercial_Sector_Total_Consumption_of_Renewable_Energy,_Annual.csv\")\n",
    "Ren_IndustrialData = pd.read_csv(\"Data_new_2/Industrial_Sector_Total_Consumption_of_Renewable_Energy,_Annual.csv\")\n",
    "Ren_TransportationData = pd.read_csv(\"Data_new_2/Transportation_Sector_Total_Consumption_of_Renewable_Energy,_Annual.csv\")"
   ]
  },
  {
   "cell_type": "code",
   "execution_count": null,
   "metadata": {},
   "outputs": [],
   "source": [
    "for x in range(1, 5):\n",
    "    dataDic = {'Sector using renewable energy' :\n",
    "    ['Electric',\n",
    "    'Resedential',\n",
    "    'Commercial',\n",
    "    'Industrial',\n",
    "    'Transportation'],\n",
    "\n",
    "    'Energy in Quadrillion of Btu' :\n",
    "    [float(round(Ren_ElectricData.loc[Ren_ElectricData[\"Year\"] == (2000 + x)]['Quadrillion Btu'],2)),\n",
    "    float(round(Ren_ResidentiatData.loc[Ren_ResidentiatData[\"Year\"] == (2000 + x)]['Quadrillion Btu'],2)),\n",
    "    float(round(Ren_CommercialData.loc[Ren_CommercialData[\"Year\"] == (2000 + x)]['Quadrillion Btu'],2)),\n",
    "    float(round(Ren_IndustrialData.loc[Ren_IndustrialData [\"Year\"] == (2000 + x)]['Quadrillion Btu'],2)),\n",
    "    float(round(Ren_TransportationData[Ren_TransportationData[\"Year\"] == (2000 + x)]['Quadrillion Btu'],2))]}\n",
    "    \n",
    "    \n",
    "    \n",
    "    dataDicPd = pd.DataFrame.from_dict(dataDic)\n",
    "    dataDicPd.plot(kind='pie',colors=('#1CFF0D','#00E84E', '#00FFB9', '#0CD1E8', '#0D8EFF', '#25FF3C', '#2DE88A', '#31FFE7', '#21B6E8', '#2579FF', '#6895FF'), y = 'Energy in Quadrillion of Btu', autopct='%1.1f%%', \n",
    "    startangle=0, shadow=False, labels=dataDicPd['Sector using renewable energy'], fontsize=14)\n",
    "    plt.title(\"Consumption of Renewable energy-Sectorwise:\"+str((2000 + x)))\n",
    "    plt.ylabel(\"\")\n",
    "    plt.legend(loc='right', bbox_to_anchor=(1.7, 0.5))\n",
    "    \n",
    "    plt.savefig(\"Images/Renewable_Energy_Consumption_sectorwise\" + str((2000 + x)) + \".png\")"
   ]
  }
 ],
 "metadata": {
  "kernelspec": {
   "display_name": "Python 3",
   "language": "python",
   "name": "python3"
  },
  "language_info": {
   "codemirror_mode": {
    "name": "ipython",
    "version": 3
   },
   "file_extension": ".py",
   "mimetype": "text/x-python",
   "name": "python",
   "nbconvert_exporter": "python",
   "pygments_lexer": "ipython3",
   "version": "3.6.5"
  }
 },
 "nbformat": 4,
 "nbformat_minor": 2
}
